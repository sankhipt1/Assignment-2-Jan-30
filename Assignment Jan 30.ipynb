{
 "cells": [
  {
   "cell_type": "code",
   "execution_count": null,
   "id": "cbef42ed-52aa-437b-af8a-bd5eb7e68f29",
   "metadata": {},
   "outputs": [],
   "source": [
    "Q1"
   ]
  },
  {
   "cell_type": "code",
   "execution_count": 3,
   "id": "f672efc1-d3a0-4067-927e-f913420ba6ea",
   "metadata": {},
   "outputs": [
    {
     "name": "stdin",
     "output_type": "stream",
     "text": [
      "Input your percentage 76\n"
     ]
    },
    {
     "name": "stdout",
     "output_type": "stream",
     "text": [
      "You have secured grade C\n"
     ]
    }
   ],
   "source": [
    "Marks = int(input(\"Input your percentage\"))\n",
    "if Marks > 90:\n",
    "   print(\"You have secure grade A\")\n",
    "elif Marks > 80 and Marks <=90:\n",
    "   print(\"You have secured grade B\")\n",
    "elif Marks >= 60 and Marks <=80:\n",
    "   print(\"You have secured grade C\")\n",
    "else:\n",
    "   print(\"You have secured grade D\")"
   ]
  },
  {
   "cell_type": "code",
   "execution_count": null,
   "id": "94799b73-cfdd-4bea-af1f-77da5009757a",
   "metadata": {},
   "outputs": [],
   "source": [
    "Q2"
   ]
  },
  {
   "cell_type": "code",
   "execution_count": 6,
   "id": "5794f0c8-339d-4411-97c5-30396f3b49fd",
   "metadata": {},
   "outputs": [
    {
     "name": "stdin",
     "output_type": "stream",
     "text": [
      "Please input cost of your bike 4000\n"
     ]
    },
    {
     "name": "stdout",
     "output_type": "stream",
     "text": [
      "5% Tax pay\n"
     ]
    }
   ],
   "source": [
    "Cost_price = int(input(\"Please input cost of your bike\"))\n",
    "if Cost_price > 100000:\n",
    "    print(\"15% Tax pay\")\n",
    "elif Cost_price > 50000 and Cost_price <= 100000:\n",
    "    print(\"10% Tax pay\")\n",
    "else:\n",
    "    print(\"5% Tax pay\")"
   ]
  },
  {
   "cell_type": "code",
   "execution_count": null,
   "id": "9ac4da30-5db5-4a7b-90e1-c31e8692bf14",
   "metadata": {},
   "outputs": [],
   "source": [
    "Q3"
   ]
  },
  {
   "cell_type": "code",
   "execution_count": null,
   "id": "7ed34af8-66a0-40f1-9a43-31bcd1d8aae1",
   "metadata": {},
   "outputs": [],
   "source": [
    "City = str(input(\"Please select the city you are interested in\"))\n",
    "a = 'delhi'\n",
    "b = 'agra'\n",
    "c = 'jaipur' \n",
    "\n",
    "if City == a:\n",
    "    print(\"Monument: Red Fort\")\n",
    "elif City == b:\n",
    "    print(\"Monument: Taj Mahal\")\n",
    "elif City == c:\n",
    "    print(\"Monument: Jal Mahal\")\n",
    "else:\n",
    "    print(\"Data doesn't Exists\")"
   ]
  },
  {
   "cell_type": "code",
   "execution_count": null,
   "id": "4039d8f0-4535-4672-9cf4-cf45375f141d",
   "metadata": {},
   "outputs": [],
   "source": [
    "Q4"
   ]
  },
  {
   "cell_type": "code",
   "execution_count": null,
   "id": "06115a10-01a1-4381-b373-3c22eaa2d5b7",
   "metadata": {},
   "outputs": [],
   "source": [
    "n = int(input(\"Please enter a number\"))\n",
    "count = 0\n",
    "while n >= 10:\n",
    "      if n%3==0:\n",
    "            count=count+1\n",
    "            n=n/3\n",
    "print(count)\n",
    "\n",
    "\n",
    "     \n",
    "    "
   ]
  },
  {
   "cell_type": "code",
   "execution_count": null,
   "id": "3913dcbb-3c16-4abe-9827-96beaf9499e4",
   "metadata": {},
   "outputs": [],
   "source": [
    "Q5"
   ]
  },
  {
   "cell_type": "code",
   "execution_count": 4,
   "id": "b0f83eb2-9fb3-4c33-b852-b941a13d0f22",
   "metadata": {},
   "outputs": [
    {
     "ename": "SyntaxError",
     "evalue": "invalid syntax (3255730934.py, line 1)",
     "output_type": "error",
     "traceback": [
      "\u001b[0;36m  Cell \u001b[0;32mIn [4], line 1\u001b[0;36m\u001b[0m\n\u001b[0;31m    5. A while loop is used when the number of iteration is unknown until a condition is met.\u001b[0m\n\u001b[0m       ^\u001b[0m\n\u001b[0;31mSyntaxError\u001b[0m\u001b[0;31m:\u001b[0m invalid syntax\n"
     ]
    }
   ],
   "source": [
    "5. A while loop is used when the number of iteration is unknown until a condition is met. \n",
    "It can be used when we donot know how mamy times the statement is true for given conditon for instance if we ask a user to choose a number between 1 and 10,\n",
    "we donot know how many times the user may enter a large number,so we keep asking \"while the number is not betweeen 1 and 10\" "
   ]
  },
  {
   "cell_type": "code",
   "execution_count": null,
   "id": "7f7f679a-3b5e-4536-8ae8-8ee9ed9ed90e",
   "metadata": {},
   "outputs": [],
   "source": [
    "Q6"
   ]
  },
  {
   "cell_type": "code",
   "execution_count": 5,
   "id": "52720de7-0e78-4300-a9ff-30c4a5879b7b",
   "metadata": {},
   "outputs": [
    {
     "name": "stdout",
     "output_type": "stream",
     "text": [
      "*\n",
      "**\n",
      "***\n",
      "****\n",
      "*****\n"
     ]
    }
   ],
   "source": [
    "row = 1\n",
    "while row <= 5:\n",
    "    col = 1\n",
    "    while col <= row:\n",
    "        print(\"*\", end=\"\")\n",
    "        col = col+1\n",
    "    print(\"\")\n",
    "    row=row+1"
   ]
  },
  {
   "cell_type": "code",
   "execution_count": 1,
   "id": "258cc6d4-c145-44c2-bfed-b18887fb31f1",
   "metadata": {},
   "outputs": [
    {
     "name": "stdout",
     "output_type": "stream",
     "text": [
      "+++++\n",
      "++++\n",
      "+++\n",
      "++\n",
      "+\n"
     ]
    }
   ],
   "source": [
    "row = 5\n",
    "while row >= 1:\n",
    "    col = 1\n",
    "    while col <= row:\n",
    "        print(\"+\", end=\"\")\n",
    "        col += 1\n",
    "    print(\"\")\n",
    "    row -= 1"
   ]
  },
  {
   "cell_type": "code",
   "execution_count": null,
   "id": "11b6d395-a38e-4157-9cd5-5236debe34ca",
   "metadata": {},
   "outputs": [],
   "source": [
    "row = 1\n",
    "while row <= 5:\n",
    "    spaces = 5 - row\n",
    "    while spaces >0:\n",
    "        print(\"\", end=\"\")\n",
    "        spaces -= 1\n",
    "    stars = 1\n",
    "    while stars <= (2 * row - 1):\n",
    "        print(\"*\", end=\"\")\n",
    "        stars += 1\n",
    "print(\"\")\n",
    "row += 1"
   ]
  },
  {
   "cell_type": "code",
   "execution_count": null,
   "id": "1c479d5a-a688-4b9f-b39b-40326aaaa5a1",
   "metadata": {},
   "outputs": [],
   "source": [
    "Q7"
   ]
  },
  {
   "cell_type": "code",
   "execution_count": 9,
   "id": "743a1bfe-04d0-4699-8e88-de36f65452d8",
   "metadata": {},
   "outputs": [
    {
     "name": "stdout",
     "output_type": "stream",
     "text": [
      "10\n",
      "9\n",
      "8\n",
      "7\n",
      "6\n",
      "5\n",
      "4\n",
      "3\n",
      "2\n",
      "1\n"
     ]
    }
   ],
   "source": [
    "\n",
    "a = 1\n",
    "while a<=10:\n",
    "    reverse = 11 - a\n",
    "    print(reverse)\n",
    "    a+=1\n"
   ]
  },
  {
   "cell_type": "code",
   "execution_count": null,
   "id": "da5ae8d2-1684-4bf0-8551-057341f41960",
   "metadata": {},
   "outputs": [],
   "source": []
  }
 ],
 "metadata": {
  "kernelspec": {
   "display_name": "Python 3 (ipykernel)",
   "language": "python",
   "name": "python3"
  },
  "language_info": {
   "codemirror_mode": {
    "name": "ipython",
    "version": 3
   },
   "file_extension": ".py",
   "mimetype": "text/x-python",
   "name": "python",
   "nbconvert_exporter": "python",
   "pygments_lexer": "ipython3",
   "version": "3.10.6"
  }
 },
 "nbformat": 4,
 "nbformat_minor": 5
}
